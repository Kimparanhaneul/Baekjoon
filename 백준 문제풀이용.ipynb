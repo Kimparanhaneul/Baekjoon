{
 "cells": [
  {
   "cell_type": "code",
   "execution_count": 2,
   "id": "0aa7280c",
   "metadata": {},
   "outputs": [
    {
     "name": "stdout",
     "output_type": "stream",
     "text": [
      "1.5.1\n"
     ]
    }
   ],
   "source": [
    "import sklearn\n",
    "print(sklearn.__version__)\n"
   ]
  },
  {
   "cell_type": "code",
   "execution_count": 18,
   "id": "ca425c4b",
   "metadata": {},
   "outputs": [
    {
     "name": "stdout",
     "output_type": "stream",
     "text": [
      "472\n",
      "385\n",
      "2360\n",
      "3776\n",
      "1416\n",
      "181720\n"
     ]
    }
   ],
   "source": [
    "a=int(input())\n",
    "b=int(input())\n",
    "b1=b%10\n",
    "b10=b%100-b1\n",
    "b100=b//100\n",
    "hap1=a*b1\n",
    "hap2=a*b10\n",
    "hap3=a*b100*100\n",
    "print(a*b1)\n",
    "print(int(a*b10/10))\n",
    "print(a*b100)\n",
    "print(hap1+hap2+hap3)\n"
   ]
  },
  {
   "cell_type": "code",
   "execution_count": 24,
   "id": "9552db5c",
   "metadata": {},
   "outputs": [
    {
     "name": "stdout",
     "output_type": "stream",
     "text": [
      "25\n",
      "5\n"
     ]
    }
   ],
   "source": [
    "a=input()\n",
    "print(a[1])"
   ]
  },
  {
   "cell_type": "code",
   "execution_count": 12,
   "id": "9661a501",
   "metadata": {},
   "outputs": [
    {
     "name": "stdout",
     "output_type": "stream",
     "text": [
      "\\\n",
      "'\n"
     ]
    }
   ],
   "source": [
    "print('\\\\')\n",
    "print(\"'\")"
   ]
  },
  {
   "cell_type": "code",
   "execution_count": 15,
   "id": "37262d1e",
   "metadata": {},
   "outputs": [
    {
     "name": "stdout",
     "output_type": "stream",
     "text": [
      "|\\_/|\n",
      "|q p|   /}\n",
      "( 0 )\"\"\"\\\n",
      "|\"^\"`    |\n",
      "||_/=\\__|\n"
     ]
    }
   ],
   "source": [
    "print(\"|\\_/|\")\n",
    "print(\"|q p|   /}\")\n",
    "print('( 0 )\\\"\\\"\\\"\\\\')\n",
    "print('|\"^\"`    |')\n",
    "print(\"||_/=\\\\__|\")"
   ]
  },
  {
   "cell_type": "code",
   "execution_count": 1,
   "id": "88300cdc",
   "metadata": {},
   "outputs": [
    {
     "name": "stdout",
     "output_type": "stream",
     "text": [
      "2 2 2\n",
      "12000\n"
     ]
    }
   ],
   "source": [
    "a,b,c=map(int,input().split())\n",
    "if a==b==c:\n",
    "    print(10000+a*1000)"
   ]
  },
  {
   "cell_type": "code",
   "execution_count": 22,
   "id": "99a8f68e",
   "metadata": {},
   "outputs": [
    {
     "name": "stdout",
     "output_type": "stream",
     "text": [
      "5\n",
      "4 6\n",
      "5 4\n",
      "5 4\n",
      "2 4\n",
      "3 5\n"
     ]
    }
   ],
   "source": [
    "a=int(input())\n",
    "b=[]\n",
    "c=[]\n",
    "for i in range(0,a):\n",
    "    b,c=map(int,input().split())\n",
    "    \n",
    "    "
   ]
  },
  {
   "cell_type": "code",
   "execution_count": 21,
   "id": "98ba046a",
   "metadata": {},
   "outputs": [
    {
     "name": "stdout",
     "output_type": "stream",
     "text": [
      "9\n",
      "*********\n",
      " ********\n",
      "  *******\n",
      "   ******\n",
      "    *****\n",
      "     ****\n",
      "      ***\n",
      "       **\n",
      "        *\n"
     ]
    }
   ],
   "source": [
    "a=int(input())\n",
    "for i in range(1,a+1):\n",
    "    print(\" \"*(i-1)+\"*\"*(a+1-i))"
   ]
  },
  {
   "cell_type": "code",
   "execution_count": 20,
   "id": "2f0a06cb",
   "metadata": {},
   "outputs": [
    {
     "name": "stdout",
     "output_type": "stream",
     "text": [
      "13\n",
      "            *\n",
      "           ***\n",
      "          *****\n",
      "         *******\n",
      "        *********\n",
      "       ***********\n",
      "      *************\n",
      "     ***************\n",
      "    *****************\n",
      "   *******************\n",
      "  *********************\n",
      " ***********************\n",
      "*************************\n"
     ]
    }
   ],
   "source": [
    "a=int(input())\n",
    "b=1\n",
    "for i in range(a,0,-1):\n",
    "    print(\" \"*(i-1)+\"*\"*(b))\n",
    "    b+=2"
   ]
  },
  {
   "cell_type": "code",
   "execution_count": 10,
   "id": "b7a5d087",
   "metadata": {},
   "outputs": [
    {
     "name": "stdout",
     "output_type": "stream",
     "text": [
      "0\n",
      "1\n",
      "2\n",
      "3\n",
      "4\n",
      "5\n"
     ]
    }
   ],
   "source": [
    "a=5\n",
    "for i in range(a+1):\n",
    "    print(i)"
   ]
  },
  {
   "cell_type": "code",
   "execution_count": 9,
   "id": "ffb7f769",
   "metadata": {},
   "outputs": [
    {
     "name": "stdout",
     "output_type": "stream",
     "text": [
      "5\n",
      "*********\n",
      " *******\n",
      "  *****\n",
      "   ***\n",
      "    *\n"
     ]
    }
   ],
   "source": [
    "a=int(input())\n",
    "for i in range(a,0,-1):\n",
    "    print(\" \"*(a-i)+\"*\"*(i*2-1))\n",
    "    "
   ]
  },
  {
   "cell_type": "code",
   "execution_count": 4,
   "id": "41625d10",
   "metadata": {},
   "outputs": [
    {
     "name": "stdout",
     "output_type": "stream",
     "text": [
      "3\n",
      "3 3 6 \n",
      "2 2 2\n",
      "6 2 5\n",
      "12000\n"
     ]
    }
   ],
   "source": [
    "a=int(input())\n",
    "hap=0\n",
    "for i in range(a):\n",
    "    b,c,d=map(int,input().split())\n",
    "    if b==c==d:\n",
    "        hap=max(hap,10000+b*1000)\n",
    "    elif b==c or b==d:\n",
    "        hap=max(hap,1000+b*100)\n",
    "    elif c==d:\n",
    "        hap=max(hap,1000+b*100)\n",
    "    else:\n",
    "        hap=max(hap,100*max(b,c,d))\n",
    "print(hap)\n"
   ]
  },
  {
   "cell_type": "code",
   "execution_count": 6,
   "id": "f9c7bdb3",
   "metadata": {},
   "outputs": [
    {
     "name": "stdout",
     "output_type": "stream",
     "text": [
      "5\n",
      "    *\n",
      "   ***\n",
      "  *****\n",
      " *******\n",
      "*********\n",
      " *****\n",
      "  ****\n",
      "   ***\n",
      "    **\n"
     ]
    }
   ],
   "source": [
    "a=int(input())\n",
    "for i in range(1,a+1):\n",
    "    print(\" \"*(a-i)+\"*\"*(i*2-1))\n",
    "for j in range(a,1,-1):\n",
    "    print(\" \"*(a-j+1)+\"*\"*(j))"
   ]
  },
  {
   "cell_type": "code",
   "execution_count": 10,
   "id": "f0b72830",
   "metadata": {},
   "outputs": [
    {
     "name": "stdout",
     "output_type": "stream",
     "text": [
      "5\n",
      "    *\n",
      "   **\n",
      "  ***\n",
      " ****\n",
      "*****\n",
      " ****\n",
      "  ***\n",
      "   **\n",
      "    *\n"
     ]
    }
   ],
   "source": [
    "a=int(input())\n",
    "for i in range(a,0,-1):\n",
    "    print(\" \"*(i-1)+\"*\"*(a+1-i))\n",
    "for j in range(a-1,0,-1):\n",
    "    print(\" \"*(a-j)+\"*\"*(j))"
   ]
  },
  {
   "cell_type": "code",
   "execution_count": 3,
   "id": "523a941f",
   "metadata": {},
   "outputs": [
    {
     "name": "stdout",
     "output_type": "stream",
     "text": [
      "5\n",
      "*****\n",
      "****\n",
      "***\n",
      "**\n",
      "*\n"
     ]
    }
   ],
   "source": [
    "a=int(input())\n",
    "for i in range(a,0,-1):\n",
    "    print(\"*\"*i)"
   ]
  },
  {
   "cell_type": "code",
   "execution_count": 12,
   "id": "b2292084",
   "metadata": {},
   "outputs": [
    {
     "name": "stdout",
     "output_type": "stream",
     "text": [
      "11\n",
      "1 4 2 4 2 4 2 3 4 4\n",
      "2\n",
      "3\n"
     ]
    }
   ],
   "source": [
    "a=int(input())\n",
    "b=list(map(int,input().split()))\n",
    "c=int(input())\n",
    "print(b.count(c))\n",
    "    "
   ]
  },
  {
   "cell_type": "code",
   "execution_count": 1,
   "id": "c20f9916",
   "metadata": {},
   "outputs": [
    {
     "name": "stdout",
     "output_type": "stream",
     "text": [
      "2 3 5\n",
      "[2, 3, 5]\n",
      "2 3 5\n"
     ]
    }
   ],
   "source": [
    "a=list(map(int,input().split()))\n",
    "a.sort()\n",
    "print(a)\n",
    "print(a[0],a[1],a[2])"
   ]
  },
  {
   "cell_type": "code",
   "execution_count": 9,
   "id": "27c0f6f7",
   "metadata": {},
   "outputs": [
    {
     "name": "stdout",
     "output_type": "stream",
     "text": [
      "5\n",
      "4\n",
      "4\n",
      "5\n",
      "5\n",
      "-41\n"
     ]
    }
   ],
   "source": [
    "menu=[]\n",
    "juci=[]\n",
    "for i in range(3):\n",
    "    menu.append(int(input()))\n",
    "for i in range(2):\n",
    "    juci.append(int(input()))\n",
    "menu.sort()\n",
    "juci.sort()\n",
    "print(menu[0]+juci[0]-50)\n",
    "\n",
    "    for j in range(star,0,-1):\n",
    "    print((\" \")*(j-1)+(\"*\"*(star+1-j)*2-1))"
   ]
  },
  {
   "cell_type": "code",
   "execution_count": 19,
   "id": "33a75324",
   "metadata": {},
   "outputs": [
    {
     "name": "stdout",
     "output_type": "stream",
     "text": [
      "5\n",
      "*********\n",
      " *******\n",
      "  *****\n",
      "   ***\n",
      "    *\n",
      "   ***\n",
      "  *****\n",
      " *******\n",
      "*********\n"
     ]
    }
   ],
   "source": [
    "star=int(input())\n",
    "for i in range(star,1,-1):\n",
    "    print((\" \")*(star-i)+(\"*\")*(i*2-1))\n",
    "for j in range(star,0,-1):\n",
    "    print((\" \")*(j-1)+(\"*\")*((((star+1-j)*2)-1)))\n"
   ]
  },
  {
   "cell_type": "code",
   "execution_count": 1,
   "id": "b9772250",
   "metadata": {},
   "outputs": [
    {
     "name": "stdout",
     "output_type": "stream",
     "text": [
      "6 3\n",
      "3\n"
     ]
    }
   ],
   "source": [
    "a,b=map(int,input().split())\n",
    "li=[]\n",
    "count=0\n",
    "for i in range(1,a+1):\n",
    "    if a%i==0:\n",
    "        li.append(i)\n",
    "if len(li) >= b:\n",
    "    print(li[b-1])\n",
    "else:\n",
    "    print(\"0\")"
   ]
  },
  {
   "cell_type": "code",
   "execution_count": null,
   "id": "23d0ac01",
   "metadata": {},
   "outputs": [],
   "source": [
    "a=int(input())\n",
    "result=[]\n",
    "for i in range(a):\n",
    "    num1=list(map(int,input().split()))\n",
    "    for j in range(max(num1[0],num1[1]),(num1[0]*num1[1]+1)):\n",
    "        if (j%num1[0]==0) and (j%num1[1]==0):\n",
    "            result.append(j)\n",
    "for i in range(a):\n",
    "    print(result[i])\n",
    "    "
   ]
  },
  {
   "cell_type": "code",
   "execution_count": 46,
   "id": "3e99c5af",
   "metadata": {},
   "outputs": [
    {
     "name": "stdout",
     "output_type": "stream",
     "text": [
      "3\n",
      "1 45000\n",
      "1\n",
      "6 10\n",
      "1\n",
      "2\n"
     ]
    },
    {
     "ename": "KeyboardInterrupt",
     "evalue": "Interrupted by user",
     "output_type": "error",
     "traceback": [
      "\u001b[1;31m---------------------------------------------------------------------------\u001b[0m",
      "\u001b[1;31mKeyboardInterrupt\u001b[0m                         Traceback (most recent call last)",
      "Cell \u001b[1;32mIn[46], line 5\u001b[0m\n\u001b[0;32m      3\u001b[0m minmax\u001b[38;5;241m=\u001b[39m\u001b[38;5;241m0\u001b[39m\n\u001b[0;32m      4\u001b[0m \u001b[38;5;28;01mfor\u001b[39;00m i \u001b[38;5;129;01min\u001b[39;00m \u001b[38;5;28mrange\u001b[39m(a):\n\u001b[1;32m----> 5\u001b[0m     num1\u001b[38;5;241m=\u001b[39m\u001b[38;5;28mlist\u001b[39m(\u001b[38;5;28mmap\u001b[39m(\u001b[38;5;28mint\u001b[39m,\u001b[38;5;28minput\u001b[39m()\u001b[38;5;241m.\u001b[39msplit()))\n\u001b[0;32m      6\u001b[0m     \u001b[38;5;28;01mfor\u001b[39;00m i \u001b[38;5;129;01min\u001b[39;00m \u001b[38;5;28mrange\u001b[39m(\u001b[38;5;241m1\u001b[39m,\u001b[38;5;28mmax\u001b[39m(num1[\u001b[38;5;241m0\u001b[39m],num1[\u001b[38;5;241m1\u001b[39m])\u001b[38;5;241m+\u001b[39m\u001b[38;5;241m1\u001b[39m):\n\u001b[0;32m      7\u001b[0m         \u001b[38;5;28;01mif\u001b[39;00m num1[\u001b[38;5;241m0\u001b[39m]\u001b[38;5;241m%\u001b[39mi\u001b[38;5;241m==\u001b[39m\u001b[38;5;241m0\u001b[39m \u001b[38;5;129;01mand\u001b[39;00m num1[\u001b[38;5;241m1\u001b[39m]\u001b[38;5;241m%\u001b[39mi\u001b[38;5;241m==\u001b[39m\u001b[38;5;241m0\u001b[39m:\n",
      "File \u001b[1;32m~\\anaconda3\\Lib\\site-packages\\ipykernel\\kernelbase.py:1175\u001b[0m, in \u001b[0;36mKernel.raw_input\u001b[1;34m(self, prompt)\u001b[0m\n\u001b[0;32m   1171\u001b[0m \u001b[38;5;28;01mif\u001b[39;00m \u001b[38;5;129;01mnot\u001b[39;00m \u001b[38;5;28mself\u001b[39m\u001b[38;5;241m.\u001b[39m_allow_stdin:\n\u001b[0;32m   1172\u001b[0m     \u001b[38;5;28;01mraise\u001b[39;00m StdinNotImplementedError(\n\u001b[0;32m   1173\u001b[0m         \u001b[38;5;124m\"\u001b[39m\u001b[38;5;124mraw_input was called, but this frontend does not support input requests.\u001b[39m\u001b[38;5;124m\"\u001b[39m\n\u001b[0;32m   1174\u001b[0m     )\n\u001b[1;32m-> 1175\u001b[0m \u001b[38;5;28;01mreturn\u001b[39;00m \u001b[38;5;28mself\u001b[39m\u001b[38;5;241m.\u001b[39m_input_request(\n\u001b[0;32m   1176\u001b[0m     \u001b[38;5;28mstr\u001b[39m(prompt),\n\u001b[0;32m   1177\u001b[0m     \u001b[38;5;28mself\u001b[39m\u001b[38;5;241m.\u001b[39m_parent_ident[\u001b[38;5;124m\"\u001b[39m\u001b[38;5;124mshell\u001b[39m\u001b[38;5;124m\"\u001b[39m],\n\u001b[0;32m   1178\u001b[0m     \u001b[38;5;28mself\u001b[39m\u001b[38;5;241m.\u001b[39mget_parent(\u001b[38;5;124m\"\u001b[39m\u001b[38;5;124mshell\u001b[39m\u001b[38;5;124m\"\u001b[39m),\n\u001b[0;32m   1179\u001b[0m     password\u001b[38;5;241m=\u001b[39m\u001b[38;5;28;01mFalse\u001b[39;00m,\n\u001b[0;32m   1180\u001b[0m )\n",
      "File \u001b[1;32m~\\anaconda3\\Lib\\site-packages\\ipykernel\\kernelbase.py:1217\u001b[0m, in \u001b[0;36mKernel._input_request\u001b[1;34m(self, prompt, ident, parent, password)\u001b[0m\n\u001b[0;32m   1214\u001b[0m             \u001b[38;5;28;01mbreak\u001b[39;00m\n\u001b[0;32m   1215\u001b[0m \u001b[38;5;28;01mexcept\u001b[39;00m \u001b[38;5;167;01mKeyboardInterrupt\u001b[39;00m:\n\u001b[0;32m   1216\u001b[0m     \u001b[38;5;66;03m# re-raise KeyboardInterrupt, to truncate traceback\u001b[39;00m\n\u001b[1;32m-> 1217\u001b[0m     \u001b[38;5;28;01mraise\u001b[39;00m \u001b[38;5;167;01mKeyboardInterrupt\u001b[39;00m(\u001b[38;5;124m\"\u001b[39m\u001b[38;5;124mInterrupted by user\u001b[39m\u001b[38;5;124m\"\u001b[39m) \u001b[38;5;28;01mfrom\u001b[39;00m \u001b[38;5;28;01mNone\u001b[39;00m\n\u001b[0;32m   1218\u001b[0m \u001b[38;5;28;01mexcept\u001b[39;00m \u001b[38;5;167;01mException\u001b[39;00m:\n\u001b[0;32m   1219\u001b[0m     \u001b[38;5;28mself\u001b[39m\u001b[38;5;241m.\u001b[39mlog\u001b[38;5;241m.\u001b[39mwarning(\u001b[38;5;124m\"\u001b[39m\u001b[38;5;124mInvalid Message:\u001b[39m\u001b[38;5;124m\"\u001b[39m, exc_info\u001b[38;5;241m=\u001b[39m\u001b[38;5;28;01mTrue\u001b[39;00m)\n",
      "\u001b[1;31mKeyboardInterrupt\u001b[0m: Interrupted by user"
     ]
    }
   ],
   "source": [
    "a=int(input())\n",
    "minmax_num1=[]\n",
    "minmax=0\n",
    "for i in range(a):\n",
    "    num1=list(map(int,input().split()))\n",
    "    for i in range(1,max(num1[0],num1[1])+1):\n",
    "        if num1[0]%i==0 and num1[1]%i==0:\n",
    "            minmax_num1.append(i)\n",
    "            minmax=max(minmax_num1)\n",
    "            print(minmax)"
   ]
  },
  {
   "cell_type": "code",
   "execution_count": 1,
   "id": "46a148a3",
   "metadata": {},
   "outputs": [
    {
     "name": "stdout",
     "output_type": "stream",
     "text": [
      "31\n",
      "34\n",
      "7\n",
      "151\n",
      "43\n",
      "3\n"
     ]
    }
   ],
   "source": [
    "a=int(input())\n",
    "b=int(input())\n",
    "c=int(input())\n",
    "d=int(input())\n",
    "e=(a+b+c+d)%60\n",
    "f=(a+b+c+d)//60\n",
    "print(f)\n",
    "print(e)"
   ]
  },
  {
   "cell_type": "code",
   "execution_count": 38,
   "id": "55a5c1ae",
   "metadata": {},
   "outputs": [
    {
     "name": "stdout",
     "output_type": "stream",
     "text": [
      "67 31\n",
      "3\n"
     ]
    }
   ],
   "source": [
    "a,b=map(int,input().split())\n",
    "c=a\n",
    "d=[]\n",
    "while True:\n",
    "    c=(c*a)%b\n",
    "    if c in d:\n",
    "        print(len(d)-d.index(c))\n",
    "        break\n",
    "    d.append(c)"
   ]
  },
  {
   "cell_type": "code",
   "execution_count": 36,
   "id": "8f79b56c",
   "metadata": {},
   "outputs": [
    {
     "name": "stdout",
     "output_type": "stream",
     "text": [
      "0\n"
     ]
    }
   ],
   "source": [
    "a=[0,0,1,0,101,]\n",
    "b=0\n",
    "print(a.index(b))"
   ]
  },
  {
   "cell_type": "code",
   "execution_count": 2,
   "id": "57fedd1b",
   "metadata": {},
   "outputs": [
    {
     "name": "stdout",
     "output_type": "stream",
     "text": [
      "3 7\n",
      "15\n"
     ]
    }
   ],
   "source": [
    "a=[]\n",
    "for i in range(1000):\n",
    "    for j in range(i):\n",
    "        a.append(i)\n",
    "b,c=map(int,input().split())\n",
    "hap=0\n",
    "for i in range(b-1,c):\n",
    "    hap+=a[i]\n",
    "print(hap)"
   ]
  },
  {
   "cell_type": "code",
   "execution_count": 6,
   "id": "c3734faf",
   "metadata": {},
   "outputs": [
    {
     "name": "stdout",
     "output_type": "stream",
     "text": [
      "5\n",
      "[0, 0, 0, 0, 0]\n"
     ]
    }
   ],
   "source": [
    "a=int(input())\n",
    "b=[0 for i in range(a)]\n",
    "print(b)\n",
    "    "
   ]
  },
  {
   "cell_type": "code",
   "execution_count": 10,
   "id": "91ec3ae4",
   "metadata": {},
   "outputs": [
    {
     "name": "stdout",
     "output_type": "stream",
     "text": [
      "3\n",
      "1 2 2\n",
      "[<map object at 0x000001D07EABC9A0>]\n"
     ]
    }
   ],
   "source": [
    "a=int(input())\n",
    "computer=list(map(int,input().split()))\n",
    "cut=0\n",
    "seat=[]\n",
    "for i in range(a):\n",
    "    if computer[i] in seat:\n",
    "        cut+=1\n",
    "    else:\n",
    "        seat.append(computer[i])\n",
    "print(cut)"
   ]
  },
  {
   "cell_type": "code",
   "execution_count": null,
   "id": "9b093636",
   "metadata": {},
   "outputs": [],
   "source": [
    "N = int(input())\n",
    "customer = list(map(int, input().split()))\n",
    "sit = [0 for j in range(101)]\n",
    "cnt = 0\n",
    "for i in customer:\n",
    "    if sit[i] == 0:\n",
    "        sit[i] = i\n",
    "    else:\n",
    "        cnt += 1\n",
    "print(cnt)"
   ]
  },
  {
   "cell_type": "code",
   "execution_count": 2,
   "id": "bbb41a70",
   "metadata": {},
   "outputs": [
    {
     "name": "stdout",
     "output_type": "stream",
     "text": [
      "10 2\n",
      ">\n"
     ]
    }
   ],
   "source": [
    "#조건문-두 수 비교하기\n",
    "a,b=map(int,input().split())\n",
    "if a > b:\n",
    "    print('>')\n",
    "elif a < b:\n",
    "    print('<')\n",
    "else:\n",
    "    print('==')"
   ]
  },
  {
   "cell_type": "code",
   "execution_count": 3,
   "id": "b9ee9560",
   "metadata": {},
   "outputs": [
    {
     "name": "stdout",
     "output_type": "stream",
     "text": [
      "65\n",
      "D\n"
     ]
    }
   ],
   "source": [
    "a=int(input())\n",
    "if a>=90:\n",
    "    print('A')\n",
    "elif a>=80:\n",
    "    print('B')\n",
    "elif a>=70:\n",
    "    print('C')\n",
    "elif a>= 60:\n",
    "    print('D')\n",
    "else:\n",
    "    print('F')"
   ]
  },
  {
   "cell_type": "code",
   "execution_count": 3,
   "id": "9a822fa9",
   "metadata": {},
   "outputs": [
    {
     "name": "stdout",
     "output_type": "stream",
     "text": [
      "1999\n",
      "0\n"
     ]
    }
   ],
   "source": [
    "a=int(input())\n",
    "if (a %4==0 and a%100!=0)or a%400==0:\n",
    "    print('1')\n",
    "else:\n",
    "    print('0')"
   ]
  },
  {
   "cell_type": "code",
   "execution_count": 11,
   "id": "09614343",
   "metadata": {},
   "outputs": [
    {
     "name": "stdout",
     "output_type": "stream",
     "text": [
      "23 48\n",
      "25\n",
      "0 13\n"
     ]
    }
   ],
   "source": [
    "a,b=map(int,input().split())\n",
    "c=int(input())\n",
    "if b+c >= 60:\n",
    "    plus=(b+c)//60\n",
    "    if a+plus>=24:\n",
    "        print(\"%d %d\"%((a+plus)%24,((b+c)%60)))\n",
    "    else:\n",
    "        print(\"%d %d\"%(a+plus,((b+c)%60)))\n",
    "else:\n",
    "    print(\"%d %d\"%(a,b+c))\n",
    "    "
   ]
  },
  {
   "cell_type": "code",
   "execution_count": 23,
   "id": "ae3d849f",
   "metadata": {},
   "outputs": [
    {
     "name": "stdout",
     "output_type": "stream",
     "text": [
      "5\n",
      "12\n",
      "1\n"
     ]
    }
   ],
   "source": [
    "x=int(input())\n",
    "y=int(input())\n",
    "if x>0 and y>0:\n",
    "    print('1')\n",
    "elif x<0 and y>0:\n",
    "    print('2')\n",
    "elif x<0 and y<0:\n",
    "    print('3')\n",
    "else:\n",
    "    print('4')"
   ]
  },
  {
   "cell_type": "code",
   "execution_count": 24,
   "id": "416b6c63",
   "metadata": {},
   "outputs": [
    {
     "name": "stdout",
     "output_type": "stream",
     "text": [
      "2\n",
      "2 * 1 = 2\n",
      "2 * 2 = 4\n",
      "2 * 3 = 6\n",
      "2 * 4 = 8\n",
      "2 * 5 = 10\n",
      "2 * 6 = 12\n",
      "2 * 7 = 14\n",
      "2 * 8 = 16\n",
      "2 * 9 = 18\n"
     ]
    }
   ],
   "source": [
    "a=int(input())\n",
    "for i in range(1,10):\n",
    "    print(\"%d * %d = %d\"%(a,i,a*i))"
   ]
  },
  {
   "cell_type": "code",
   "execution_count": 12,
   "id": "3d6a3992",
   "metadata": {},
   "outputs": [
    {
     "name": "stdout",
     "output_type": "stream",
     "text": [
      "3\n",
      "6\n"
     ]
    }
   ],
   "source": [
    "a=int(input())\n",
    "hap=0\n",
    "for i in range(1,a+1):\n",
    "    hap+=i\n",
    "print(hap)"
   ]
  },
  {
   "cell_type": "code",
   "execution_count": 16,
   "id": "e3fc6c58",
   "metadata": {},
   "outputs": [
    {
     "name": "stdout",
     "output_type": "stream",
     "text": [
      "5\n",
      "*\n",
      "**\n",
      "***\n",
      "****\n",
      "*****\n"
     ]
    }
   ],
   "source": [
    "#2438\n",
    "star=int(input())\n",
    "for i in range(1,star+1):\n",
    "    print(\"*\"*i)"
   ]
  },
  {
   "cell_type": "code",
   "execution_count": 20,
   "id": "8e734dc6",
   "metadata": {},
   "outputs": [
    {
     "name": "stdout",
     "output_type": "stream",
     "text": [
      "adsfadsf\n",
      "8\n"
     ]
    }
   ],
   "source": [
    "a=input()\n",
    "print(len(a))"
   ]
  },
  {
   "cell_type": "code",
   "execution_count": 1,
   "id": "19b2bfd4",
   "metadata": {},
   "outputs": [
    {
     "name": "stdout",
     "output_type": "stream",
     "text": [
      "2\n",
      "1 1\n",
      "2\n",
      "5 5\n",
      "10\n"
     ]
    }
   ],
   "source": [
    "T = int(input())\n",
    "\n",
    "for t in range(T):\n",
    "    a, b = map(int, input().split())\n",
    "    print(a+b)\n"
   ]
  },
  {
   "cell_type": "code",
   "execution_count": null,
   "id": "b795a4d0",
   "metadata": {},
   "outputs": [],
   "source": [
    "hap=int(input())\n",
    "num=int(input())\n",
    "s=0\n",
    "for i in range(num):\n",
    "    a,b=map(int,input().split())\n",
    "    s+=a*b\n",
    "if hap==s:\n",
    "    print(\"Yes\")\n",
    "else:\n",
    "    print(\"No\")"
   ]
  },
  {
   "cell_type": "code",
   "execution_count": 6,
   "id": "62423b3d",
   "metadata": {},
   "outputs": [
    {
     "name": "stdout",
     "output_type": "stream",
     "text": [
      "20\n",
      "long long long long long int\n"
     ]
    }
   ],
   "source": [
    "a=int(input())\n",
    "long=\"\"\n",
    "for _ in range(int(a/4)):\n",
    "    long+=\"long \"\n",
    "long+=\"int\"\n",
    "print(long)"
   ]
  },
  {
   "cell_type": "code",
   "execution_count": null,
   "id": "597ed6a3",
   "metadata": {},
   "outputs": [],
   "source": [
    "import sys\n",
    "\n",
    "a=int(sys.stdin.readline())\n",
    "for i in range(a):\n",
    "    b,c=map(int,sys.stdin.readline().split())\n",
    "    print(b+c)"
   ]
  },
  {
   "cell_type": "code",
   "execution_count": 1,
   "id": "949de7da",
   "metadata": {
    "scrolled": true
   },
   "outputs": [
    {
     "name": "stdout",
     "output_type": "stream",
     "text": [
      "5\n",
      "1 1\n",
      "Case #1: 1 + 1 = 2\n",
      "2 3\n",
      "Case #2: 2 + 3 = 5\n",
      "3 4\n",
      "Case #3: 3 + 4 = 7\n",
      "9 8\n",
      "Case #4: 9 + 8 = 17\n",
      "5 2\n",
      "Case #5: 5 + 2 = 7\n"
     ]
    }
   ],
   "source": [
    "a=int(input())\n",
    "for i in range(a):\n",
    "    b,c=map(int,input().split())\n",
    "    print(\"Case #%d: %d + %d = %d\"%(i+1,b,c,b+c))"
   ]
  },
  {
   "cell_type": "code",
   "execution_count": 3,
   "id": "b84ef9a2",
   "metadata": {},
   "outputs": [
    {
     "name": "stdout",
     "output_type": "stream",
     "text": [
      "1 1\n",
      "2\n",
      "2 3\n",
      "5\n",
      "3 4\n",
      "7\n",
      "0 0\n"
     ]
    }
   ],
   "source": [
    "while True:\n",
    "    b,c=map(int,input().split())\n",
    "    if b==0 and c==0:\n",
    "        break\n",
    "    else:\n",
    "        print(b+c)"
   ]
  },
  {
   "cell_type": "code",
   "execution_count": 4,
   "id": "b8d1cedf",
   "metadata": {},
   "outputs": [
    {
     "name": "stdout",
     "output_type": "stream",
     "text": [
      "1 1\n",
      "2\n",
      "2 3\n",
      "5\n",
      "3 4\n",
      "7\n",
      "9 8\n",
      "17\n",
      "5 2\n",
      "7\n"
     ]
    }
   ],
   "source": [
    "for _ in range(5):\n",
    "    b,c=map(int,input().split())\n",
    "    print(b+c)"
   ]
  },
  {
   "cell_type": "code",
   "execution_count": 2,
   "id": "f198bb9f",
   "metadata": {},
   "outputs": [
    {
     "name": "stdout",
     "output_type": "stream",
     "text": [
      "5 5\n",
      "10\n",
      "4 2\n",
      "6\n",
      "6 5\n",
      "11\n",
      "\n"
     ]
    }
   ],
   "source": [
    "while True:\n",
    "    try:\n",
    "        a,b=map(int,input().split())\n",
    "        print(a+b)\n",
    "    except:\n",
    "        break"
   ]
  },
  {
   "cell_type": "code",
   "execution_count": 7,
   "id": "a9f54fea",
   "metadata": {
    "scrolled": true
   },
   "outputs": [
    {
     "name": "stdout",
     "output_type": "stream",
     "text": [
      "10 5\n",
      "1 10 4 9 2 3 8 5 7 6\n",
      "1 4 2 3 "
     ]
    }
   ],
   "source": [
    "#10871\n",
    "b,c=map(int,input().split())\n",
    "a=list(map(int,input().split()))\n",
    "for i in range(b):\n",
    "    if a[i] < c:\n",
    "        print(a[i], end=' ')"
   ]
  },
  {
   "cell_type": "code",
   "execution_count": 10,
   "id": "fbc9a577",
   "metadata": {},
   "outputs": [
    {
     "name": "stdout",
     "output_type": "stream",
     "text": [
      "5\n",
      "10 20 30 35 7\n",
      "7 35\n"
     ]
    }
   ],
   "source": [
    "a=int(input())\n",
    "b=list(map(int,input().split()))\n",
    "c=min(b)\n",
    "d=max(b)\n",
    "print(c,d)"
   ]
  },
  {
   "cell_type": "code",
   "execution_count": 7,
   "id": "2a3a8656",
   "metadata": {},
   "outputs": [
    {
     "name": "stdout",
     "output_type": "stream",
     "text": [
      "1\n",
      "2\n",
      "3\n",
      "4\n",
      "5\n",
      "6\n",
      "7\n",
      "8\n",
      "9\n",
      "9 8\n"
     ]
    }
   ],
   "source": [
    "a=[]\n",
    "for i in range(9):\n",
    "    a.append(int(input()))\n",
    "b=max(a)\n",
    "print(b, a.index(b)+1)"
   ]
  },
  {
   "cell_type": "code",
   "execution_count": 13,
   "id": "90e6e52c",
   "metadata": {},
   "outputs": [
    {
     "ename": "KeyboardInterrupt",
     "evalue": "Interrupted by user",
     "output_type": "error",
     "traceback": [
      "\u001b[1;31m---------------------------------------------------------------------------\u001b[0m",
      "\u001b[1;31mKeyboardInterrupt\u001b[0m                         Traceback (most recent call last)",
      "Cell \u001b[1;32mIn[13], line 4\u001b[0m\n\u001b[0;32m      2\u001b[0m b\u001b[38;5;241m=\u001b[39m[]\n\u001b[0;32m      3\u001b[0m \u001b[38;5;28;01mfor\u001b[39;00m i \u001b[38;5;129;01min\u001b[39;00m \u001b[38;5;28mrange\u001b[39m(\u001b[38;5;241m28\u001b[39m):\n\u001b[1;32m----> 4\u001b[0m     a\u001b[38;5;241m.\u001b[39mappend(\u001b[38;5;28mint\u001b[39m(\u001b[38;5;28minput\u001b[39m()))\n\u001b[0;32m      5\u001b[0m \u001b[38;5;28;01mfor\u001b[39;00m i \u001b[38;5;129;01min\u001b[39;00m \u001b[38;5;28mrange\u001b[39m(\u001b[38;5;241m1\u001b[39m,\u001b[38;5;241m31\u001b[39m):\n\u001b[0;32m      6\u001b[0m     \u001b[38;5;28;01mif\u001b[39;00m i \u001b[38;5;129;01mnot\u001b[39;00m \u001b[38;5;129;01min\u001b[39;00m a:\n",
      "File \u001b[1;32m~\\anaconda3\\Lib\\site-packages\\ipykernel\\kernelbase.py:1175\u001b[0m, in \u001b[0;36mKernel.raw_input\u001b[1;34m(self, prompt)\u001b[0m\n\u001b[0;32m   1171\u001b[0m \u001b[38;5;28;01mif\u001b[39;00m \u001b[38;5;129;01mnot\u001b[39;00m \u001b[38;5;28mself\u001b[39m\u001b[38;5;241m.\u001b[39m_allow_stdin:\n\u001b[0;32m   1172\u001b[0m     \u001b[38;5;28;01mraise\u001b[39;00m StdinNotImplementedError(\n\u001b[0;32m   1173\u001b[0m         \u001b[38;5;124m\"\u001b[39m\u001b[38;5;124mraw_input was called, but this frontend does not support input requests.\u001b[39m\u001b[38;5;124m\"\u001b[39m\n\u001b[0;32m   1174\u001b[0m     )\n\u001b[1;32m-> 1175\u001b[0m \u001b[38;5;28;01mreturn\u001b[39;00m \u001b[38;5;28mself\u001b[39m\u001b[38;5;241m.\u001b[39m_input_request(\n\u001b[0;32m   1176\u001b[0m     \u001b[38;5;28mstr\u001b[39m(prompt),\n\u001b[0;32m   1177\u001b[0m     \u001b[38;5;28mself\u001b[39m\u001b[38;5;241m.\u001b[39m_parent_ident[\u001b[38;5;124m\"\u001b[39m\u001b[38;5;124mshell\u001b[39m\u001b[38;5;124m\"\u001b[39m],\n\u001b[0;32m   1178\u001b[0m     \u001b[38;5;28mself\u001b[39m\u001b[38;5;241m.\u001b[39mget_parent(\u001b[38;5;124m\"\u001b[39m\u001b[38;5;124mshell\u001b[39m\u001b[38;5;124m\"\u001b[39m),\n\u001b[0;32m   1179\u001b[0m     password\u001b[38;5;241m=\u001b[39m\u001b[38;5;28;01mFalse\u001b[39;00m,\n\u001b[0;32m   1180\u001b[0m )\n",
      "File \u001b[1;32m~\\anaconda3\\Lib\\site-packages\\ipykernel\\kernelbase.py:1217\u001b[0m, in \u001b[0;36mKernel._input_request\u001b[1;34m(self, prompt, ident, parent, password)\u001b[0m\n\u001b[0;32m   1214\u001b[0m             \u001b[38;5;28;01mbreak\u001b[39;00m\n\u001b[0;32m   1215\u001b[0m \u001b[38;5;28;01mexcept\u001b[39;00m \u001b[38;5;167;01mKeyboardInterrupt\u001b[39;00m:\n\u001b[0;32m   1216\u001b[0m     \u001b[38;5;66;03m# re-raise KeyboardInterrupt, to truncate traceback\u001b[39;00m\n\u001b[1;32m-> 1217\u001b[0m     \u001b[38;5;28;01mraise\u001b[39;00m \u001b[38;5;167;01mKeyboardInterrupt\u001b[39;00m(\u001b[38;5;124m\"\u001b[39m\u001b[38;5;124mInterrupted by user\u001b[39m\u001b[38;5;124m\"\u001b[39m) \u001b[38;5;28;01mfrom\u001b[39;00m \u001b[38;5;28;01mNone\u001b[39;00m\n\u001b[0;32m   1218\u001b[0m \u001b[38;5;28;01mexcept\u001b[39;00m \u001b[38;5;167;01mException\u001b[39;00m:\n\u001b[0;32m   1219\u001b[0m     \u001b[38;5;28mself\u001b[39m\u001b[38;5;241m.\u001b[39mlog\u001b[38;5;241m.\u001b[39mwarning(\u001b[38;5;124m\"\u001b[39m\u001b[38;5;124mInvalid Message:\u001b[39m\u001b[38;5;124m\"\u001b[39m, exc_info\u001b[38;5;241m=\u001b[39m\u001b[38;5;28;01mTrue\u001b[39;00m)\n",
      "\u001b[1;31mKeyboardInterrupt\u001b[0m: Interrupted by user"
     ]
    }
   ],
   "source": [
    "a=[]\n",
    "b=[]\n",
    "for i in range(28):\n",
    "    a.append(int(input()))\n",
    "for i in range(1,31):\n",
    "    if i not in a:\n",
    "        b.append(i)\n",
    "print(b[0])\n",
    "print(b[1])"
   ]
  },
  {
   "cell_type": "code",
   "execution_count": 19,
   "id": "65c3c57e",
   "metadata": {},
   "outputs": [
    {
     "name": "stdout",
     "output_type": "stream",
     "text": [
      "8 16\n",
      "factor\n"
     ]
    },
    {
     "ename": "KeyboardInterrupt",
     "evalue": "Interrupted by user",
     "output_type": "error",
     "traceback": [
      "\u001b[1;31m---------------------------------------------------------------------------\u001b[0m",
      "\u001b[1;31mKeyboardInterrupt\u001b[0m                         Traceback (most recent call last)",
      "Cell \u001b[1;32mIn[19], line 2\u001b[0m\n\u001b[0;32m      1\u001b[0m \u001b[38;5;28;01mfor\u001b[39;00m i \u001b[38;5;129;01min\u001b[39;00m \u001b[38;5;28mrange\u001b[39m(\u001b[38;5;241m3\u001b[39m):\n\u001b[1;32m----> 2\u001b[0m     a,b\u001b[38;5;241m=\u001b[39m\u001b[38;5;28mmap\u001b[39m(\u001b[38;5;28mint\u001b[39m,\u001b[38;5;28minput\u001b[39m()\u001b[38;5;241m.\u001b[39msplit())\n\u001b[0;32m      3\u001b[0m     \u001b[38;5;28;01mif\u001b[39;00m b \u001b[38;5;241m%\u001b[39m a \u001b[38;5;241m==\u001b[39m \u001b[38;5;241m0\u001b[39m:\n\u001b[0;32m      4\u001b[0m         \u001b[38;5;28mprint\u001b[39m(\u001b[38;5;124m\"\u001b[39m\u001b[38;5;124mfactor\u001b[39m\u001b[38;5;124m\"\u001b[39m)\n",
      "File \u001b[1;32m~\\anaconda3\\Lib\\site-packages\\ipykernel\\kernelbase.py:1175\u001b[0m, in \u001b[0;36mKernel.raw_input\u001b[1;34m(self, prompt)\u001b[0m\n\u001b[0;32m   1171\u001b[0m \u001b[38;5;28;01mif\u001b[39;00m \u001b[38;5;129;01mnot\u001b[39;00m \u001b[38;5;28mself\u001b[39m\u001b[38;5;241m.\u001b[39m_allow_stdin:\n\u001b[0;32m   1172\u001b[0m     \u001b[38;5;28;01mraise\u001b[39;00m StdinNotImplementedError(\n\u001b[0;32m   1173\u001b[0m         \u001b[38;5;124m\"\u001b[39m\u001b[38;5;124mraw_input was called, but this frontend does not support input requests.\u001b[39m\u001b[38;5;124m\"\u001b[39m\n\u001b[0;32m   1174\u001b[0m     )\n\u001b[1;32m-> 1175\u001b[0m \u001b[38;5;28;01mreturn\u001b[39;00m \u001b[38;5;28mself\u001b[39m\u001b[38;5;241m.\u001b[39m_input_request(\n\u001b[0;32m   1176\u001b[0m     \u001b[38;5;28mstr\u001b[39m(prompt),\n\u001b[0;32m   1177\u001b[0m     \u001b[38;5;28mself\u001b[39m\u001b[38;5;241m.\u001b[39m_parent_ident[\u001b[38;5;124m\"\u001b[39m\u001b[38;5;124mshell\u001b[39m\u001b[38;5;124m\"\u001b[39m],\n\u001b[0;32m   1178\u001b[0m     \u001b[38;5;28mself\u001b[39m\u001b[38;5;241m.\u001b[39mget_parent(\u001b[38;5;124m\"\u001b[39m\u001b[38;5;124mshell\u001b[39m\u001b[38;5;124m\"\u001b[39m),\n\u001b[0;32m   1179\u001b[0m     password\u001b[38;5;241m=\u001b[39m\u001b[38;5;28;01mFalse\u001b[39;00m,\n\u001b[0;32m   1180\u001b[0m )\n",
      "File \u001b[1;32m~\\anaconda3\\Lib\\site-packages\\ipykernel\\kernelbase.py:1217\u001b[0m, in \u001b[0;36mKernel._input_request\u001b[1;34m(self, prompt, ident, parent, password)\u001b[0m\n\u001b[0;32m   1214\u001b[0m             \u001b[38;5;28;01mbreak\u001b[39;00m\n\u001b[0;32m   1215\u001b[0m \u001b[38;5;28;01mexcept\u001b[39;00m \u001b[38;5;167;01mKeyboardInterrupt\u001b[39;00m:\n\u001b[0;32m   1216\u001b[0m     \u001b[38;5;66;03m# re-raise KeyboardInterrupt, to truncate traceback\u001b[39;00m\n\u001b[1;32m-> 1217\u001b[0m     \u001b[38;5;28;01mraise\u001b[39;00m \u001b[38;5;167;01mKeyboardInterrupt\u001b[39;00m(\u001b[38;5;124m\"\u001b[39m\u001b[38;5;124mInterrupted by user\u001b[39m\u001b[38;5;124m\"\u001b[39m) \u001b[38;5;28;01mfrom\u001b[39;00m \u001b[38;5;28;01mNone\u001b[39;00m\n\u001b[0;32m   1218\u001b[0m \u001b[38;5;28;01mexcept\u001b[39;00m \u001b[38;5;167;01mException\u001b[39;00m:\n\u001b[0;32m   1219\u001b[0m     \u001b[38;5;28mself\u001b[39m\u001b[38;5;241m.\u001b[39mlog\u001b[38;5;241m.\u001b[39mwarning(\u001b[38;5;124m\"\u001b[39m\u001b[38;5;124mInvalid Message:\u001b[39m\u001b[38;5;124m\"\u001b[39m, exc_info\u001b[38;5;241m=\u001b[39m\u001b[38;5;28;01mTrue\u001b[39;00m)\n",
      "\u001b[1;31mKeyboardInterrupt\u001b[0m: Interrupted by user"
     ]
    }
   ],
   "source": [
    "while(1):\n",
    "    a,b=map(int,input().split())\n",
    "    if a==0 and b==0:\n",
    "        break\n",
    "    if b % a == 0:\n",
    "        print(\"factor\")\n",
    "    elif a % b ==0:\n",
    "        print(\"multiple\")\n",
    "    else:\n",
    "        print(\"neither\")"
   ]
  },
  {
   "cell_type": "code",
   "execution_count": 3,
   "id": "decdfaf3",
   "metadata": {},
   "outputs": [
    {
     "name": "stdout",
     "output_type": "stream",
     "text": [
      "a\n",
      "97\n"
     ]
    }
   ],
   "source": [
    "a=input()\n",
    "print(ord(a))"
   ]
  },
  {
   "cell_type": "code",
   "execution_count": 12,
   "id": "d0f20104",
   "metadata": {},
   "outputs": [
    {
     "name": "stdout",
     "output_type": "stream",
     "text": [
      "5 4 \n",
      "1 2 3\n",
      "[3, 3, 0, 0, 0, 0]\n",
      "3 4 4\n",
      "[3, 3, 4, 4, 0, 0]\n",
      "1 4 1\n",
      "[1, 1, 1, 1, 0, 0]\n",
      "2 2 2\n",
      "[1, 2, 1, 1, 0, 0]\n",
      "1 2 1 1 0 "
     ]
    }
   ],
   "source": [
    "a,b=map(int,input().split())\n",
    "basket=[0]*(a+1)\n",
    "for i in range(b):\n",
    "    c,d,e=map(int,input().split())\n",
    "    for j in range(c-1,d):\n",
    "        basket[j]=e\n",
    "for i in range(a):\n",
    "    print(basket[i], end=' ')\n",
    "    "
   ]
  },
  {
   "cell_type": "code",
   "execution_count": 13,
   "id": "75624ddc",
   "metadata": {},
   "outputs": [
    {
     "name": "stdout",
     "output_type": "stream",
     "text": [
      "3\n",
      "adfadfaf\n",
      "af\n",
      "o\n",
      "oo\n",
      "ab\n",
      "ab\n"
     ]
    }
   ],
   "source": [
    "a=int(input())\n",
    "for i in range(a):\n",
    "    b=input()\n",
    "    print(b[0]+b[-1])"
   ]
  },
  {
   "cell_type": "code",
   "execution_count": 16,
   "id": "65ff0ff5",
   "metadata": {
    "scrolled": true
   },
   "outputs": [
    {
     "name": "stdout",
     "output_type": "stream",
     "text": [
      "11\n",
      "10987654321\n",
      "46\n"
     ]
    }
   ],
   "source": [
    "a=int(input())\n",
    "b=input()\n",
    "hap=0\n",
    "for i in range(a):\n",
    "    hap+=int(b[i])\n",
    "print(hap)"
   ]
  },
  {
   "cell_type": "code",
   "execution_count": 5,
   "id": "9d46e9bf",
   "metadata": {},
   "outputs": [
    {
     "name": "stdout",
     "output_type": "stream",
     "text": [
      "60\n",
      "60\n",
      "60\n",
      "Equilateral\n"
     ]
    }
   ],
   "source": [
    "a=int(input())\n",
    "b=int(input())\n",
    "c=int(input())\n",
    "if a and b and c==60:\n",
    "    print(\"Equilateral\")\n",
    "elif a+b+c==180 and (a==b or b==c or a==c):\n",
    "    print(\"Isosceles\")\n",
    "elif a+b+c==180:\n",
    "    print(\"Scalene\")\n",
    "else:\n",
    "    print(\"Error\")"
   ]
  },
  {
   "cell_type": "code",
   "execution_count": null,
   "id": "01faba66",
   "metadata": {},
   "outputs": [
    {
     "name": "stdout",
     "output_type": "stream",
     "text": [
      "5\n",
      "20.0\n",
      "2\n",
      "50.0\n",
      "0\n",
      "error\n"
     ]
    }
   ],
   "source": [
    "while True:\n",
    "    try:\n",
    "        a=int(input())\n",
    "        print(100/a)\n",
    "    except ZeroDivisionError:\n",
    "        print(\"error\")"
   ]
  },
  {
   "cell_type": "code",
   "execution_count": 7,
   "id": "4059f5bc",
   "metadata": {
    "scrolled": true
   },
   "outputs": [
    {
     "name": "stdout",
     "output_type": "stream",
     "text": [
      "5 4\n",
      "1 2\n",
      "3 4\n",
      "1 4\n",
      "2 2\n",
      "[3, 1, 4, 2, 5]\n"
     ]
    }
   ],
   "source": [
    "n,m=map(int, input().split())\n",
    "box=[i for i in range(1, n+1)]\n",
    "temp=0\n",
    "\n",
    "for i in range(m):\n",
    "    a,b=map(int,input().split())\n",
    "    temp=box[a-1]\n",
    "    box[a-1]=box[b-1]\n",
    "    box[b-1]=temp\n",
    "\n",
    "for i in box:\n",
    "    print(i, end=' ')\n",
    "    "
   ]
  },
  {
   "cell_type": "code",
   "execution_count": 21,
   "id": "abd1e23f",
   "metadata": {},
   "outputs": [
    {
     "name": "stdout",
     "output_type": "stream",
     "text": [
      "5 4\n",
      "1 2\n",
      "3 \n"
     ]
    },
    {
     "ename": "ValueError",
     "evalue": "not enough values to unpack (expected 2, got 1)",
     "output_type": "error",
     "traceback": [
      "\u001b[1;31m---------------------------------------------------------------------------\u001b[0m",
      "\u001b[1;31mValueError\u001b[0m                                Traceback (most recent call last)",
      "Cell \u001b[1;32mIn[21], line 6\u001b[0m\n\u001b[0;32m      2\u001b[0m box\u001b[38;5;241m=\u001b[39m[i \u001b[38;5;28;01mfor\u001b[39;00m i \u001b[38;5;129;01min\u001b[39;00m \u001b[38;5;28mrange\u001b[39m(\u001b[38;5;241m1\u001b[39m,n\u001b[38;5;241m+\u001b[39m\u001b[38;5;241m1\u001b[39m)]\n\u001b[0;32m      5\u001b[0m \u001b[38;5;28;01mfor\u001b[39;00m _ \u001b[38;5;129;01min\u001b[39;00m \u001b[38;5;28mrange\u001b[39m(m):\n\u001b[1;32m----> 6\u001b[0m     a,b\u001b[38;5;241m=\u001b[39m\u001b[38;5;28mmap\u001b[39m(\u001b[38;5;28mint\u001b[39m,\u001b[38;5;28minput\u001b[39m()\u001b[38;5;241m.\u001b[39msplit())\n\u001b[0;32m      7\u001b[0m     temp \u001b[38;5;241m=\u001b[39m box[a\u001b[38;5;241m-\u001b[39m\u001b[38;5;241m1\u001b[39m:b]\n\u001b[0;32m      8\u001b[0m     temp\u001b[38;5;241m.\u001b[39mreverse()\n",
      "\u001b[1;31mValueError\u001b[0m: not enough values to unpack (expected 2, got 1)"
     ]
    }
   ],
   "source": [
    "n,m=map(int,input().split())\n",
    "box=[i for i in range(1,n+1)]\n",
    "\n",
    "\n",
    "for _ in range(m):\n",
    "    a,b=map(int,input().split())\n",
    "    temp = box[a-1:b]\n",
    "    temp.reverse()\n",
    "    box[a-1:b] = temp\n",
    "\n",
    "print(box)\n",
    "        \n",
    "\n",
    "        \n",
    "        \n",
    "        \n",
    "    "
   ]
  },
  {
   "cell_type": "code",
   "execution_count": 6,
   "id": "58c3fede",
   "metadata": {},
   "outputs": [
    {
     "name": "stdout",
     "output_type": "stream",
     "text": [
      "3\n",
      "40 80 60\n",
      "75.0\n"
     ]
    }
   ],
   "source": [
    "a=int(input())\n",
    "score=list(map(int,input().split()))\n",
    "max_score=max(score)\n",
    "new_score=[]\n",
    "\n",
    "for i in range(a):\n",
    "    new_score.append(score[i]/max_score*100)\n",
    "hap=sum(new_score)\n",
    "average=hap/a\n",
    "print(average)"
   ]
  },
  {
   "cell_type": "code",
   "execution_count": 5,
   "id": "7bfd4cd3",
   "metadata": {},
   "outputs": [
    {
     "name": "stdout",
     "output_type": "stream",
     "text": [
      "baekjoon\n",
      "1 0 -1 -1 2 -1 -1 -1 -1 4 3 -1 -1 7 5 -1 -1 -1 -1 -1 -1 -1 -1 -1 -1 -1 "
     ]
    }
   ],
   "source": [
    "a=input()\n",
    "b='abcdefghijklmnopqrstuvwxyz'\n",
    "\n",
    "for i in b:\n",
    "    if i in a:\n",
    "        print(a.index(i), end=' ')\n",
    "    else:\n",
    "        print('-1', end=' ')"
   ]
  },
  {
   "cell_type": "code",
   "execution_count": 19,
   "id": "fb107328",
   "metadata": {},
   "outputs": [
    {
     "name": "stdout",
     "output_type": "stream",
     "text": [
      "abc\n"
     ]
    },
    {
     "ename": "TypeError",
     "evalue": "index() takes at least 1 argument (0 given)",
     "output_type": "error",
     "traceback": [
      "\u001b[1;31m---------------------------------------------------------------------------\u001b[0m",
      "\u001b[1;31mTypeError\u001b[0m                                 Traceback (most recent call last)",
      "Cell \u001b[1;32mIn[19], line 6\u001b[0m\n\u001b[0;32m      4\u001b[0m \u001b[38;5;28;01mfor\u001b[39;00m j \u001b[38;5;129;01min\u001b[39;00m a:\n\u001b[0;32m      5\u001b[0m     \u001b[38;5;28;01mif\u001b[39;00m i\u001b[38;5;241m==\u001b[39mj:\n\u001b[1;32m----> 6\u001b[0m         \u001b[38;5;28mprint\u001b[39m(j\u001b[38;5;241m.\u001b[39mindex(), end\u001b[38;5;241m=\u001b[39m\u001b[38;5;124m'\u001b[39m\u001b[38;5;124m \u001b[39m\u001b[38;5;124m'\u001b[39m)\n\u001b[0;32m      7\u001b[0m         count\u001b[38;5;241m+\u001b[39m\u001b[38;5;241m=\u001b[39m\u001b[38;5;241m1\u001b[39m\n\u001b[0;32m      8\u001b[0m \u001b[38;5;28;01mif\u001b[39;00m count\u001b[38;5;241m==\u001b[39m\u001b[38;5;241m0\u001b[39m:\n",
      "\u001b[1;31mTypeError\u001b[0m: index() takes at least 1 argument (0 given)"
     ]
    }
   ],
   "source": [
    "a=input()\n",
    "b='abcdefghizklmnopqrstuvwxyz'\n",
    "for i in b:\n",
    "    for j in a:\n",
    "        if i==j:\n",
    "            print(j.index(), end=' ')\n",
    "            count+=1\n",
    "    if count==0:\n",
    "        print('-1', end=' ')\n",
    "    count=0\n",
    "            \n",
    "        "
   ]
  },
  {
   "cell_type": "code",
   "execution_count": 14,
   "id": "c2df60a4",
   "metadata": {},
   "outputs": [
    {
     "name": "stdout",
     "output_type": "stream",
     "text": [
      "221 231\n",
      "132\n"
     ]
    }
   ],
   "source": [
    "a,b=map(str,input().split())\n",
    "c=-1\n",
    "d=''\n",
    "e=''\n",
    "for i in range(len(a)):\n",
    "    d+=a[c]\n",
    "    c-=1\n",
    "c=-1\n",
    "for i in range(len(b)):\n",
    "    e+=b[c]\n",
    "    c-=1\n",
    "if int(d)>=int(e):\n",
    "    print(d)\n",
    "else:\n",
    "    print(e)"
   ]
  },
  {
   "cell_type": "code",
   "execution_count": 16,
   "id": "a5f630be",
   "metadata": {},
   "outputs": [
    {
     "name": "stdout",
     "output_type": "stream",
     "text": [
      "The Curious Case of Benjamin Button\n",
      "6\n"
     ]
    }
   ],
   "source": [
    "a=list(input().split())\n",
    "print(len(a))"
   ]
  },
  {
   "cell_type": "code",
   "execution_count": null,
   "id": "76348ae4",
   "metadata": {},
   "outputs": [],
   "source": []
  },
  {
   "cell_type": "code",
   "execution_count": 9,
   "id": "6f51b6cd",
   "metadata": {},
   "outputs": [
    {
     "name": "stdout",
     "output_type": "stream",
     "text": [
      "2\n",
      "3 abc\n",
      "aaabbbccc\n",
      "5 /htp\n",
      "/////hhhhhtttttppppp\n"
     ]
    }
   ],
   "source": [
    "case=int(input())\n",
    "\n",
    "for x in range(case):\n",
    "    a,b=input().split()\n",
    "    for i in range(len(b)):\n",
    "        print(b[i]*int(a), end='')\n",
    "    print('')\n",
    "    "
   ]
  },
  {
   "cell_type": "code",
   "execution_count": 37,
   "id": "74b97664",
   "metadata": {},
   "outputs": [
    {
     "name": "stdout",
     "output_type": "stream",
     "text": [
      "UNUCIC\n",
      "36\n"
     ]
    }
   ],
   "source": [
    "number=input()\n",
    "time=0\n",
    "\n",
    "for i in range(len(number)):\n",
    "    a=ord(number[i])\n",
    "    if  a <= 67:\n",
    "        time+=3\n",
    "    elif a <= 70:\n",
    "        time+=4\n",
    "    elif a <= 73:\n",
    "        time+=5\n",
    "    elif a <= 76:\n",
    "        time+=6\n",
    "    elif a <= 79:\n",
    "        time+=7\n",
    "    elif a <= 83:\n",
    "        time+=8\n",
    "    elif a <= 86:\n",
    "        time+=9\n",
    "    elif a <= 90:\n",
    "        time+=10\n",
    "        \n",
    "print(time)"
   ]
  },
  {
   "cell_type": "code",
   "execution_count": 16,
   "id": "a752a2a6",
   "metadata": {},
   "outputs": [
    {
     "name": "stdout",
     "output_type": "stream",
     "text": [
      "4\n",
      "aba\n",
      "abab\n",
      "abcabc\n",
      "asdf\n",
      "1\n"
     ]
    }
   ],
   "source": [
    "retry = int(input())\n",
    "num=retry\n",
    "\n",
    "for i in range(retry):\n",
    "    str=input()\n",
    "    for j in range(0, len(str)-1):\n",
    "        if str[j] == str[j+1]:\n",
    "            pass\n",
    "        elif str[j] in str[j+1:]:\n",
    "            num-=1\n",
    "            break\n",
    "print(num)"
   ]
  },
  {
   "cell_type": "code",
   "execution_count": 30,
   "id": "0e069891",
   "metadata": {},
   "outputs": [
    {
     "name": "stdout",
     "output_type": "stream",
     "text": [
      "dz\n",
      "2\n"
     ]
    }
   ],
   "source": [
    "language = input()\n",
    "num=len(language)\n",
    "a=num\n",
    "\n",
    "for i in range(0,num-1):\n",
    "    alpha=language[i]+language[i+1]\n",
    "    if alpha in ('c=', 'c-', 'd-', 'lj', 'nj', 's='):\n",
    "        num-=1\n",
    "    elif alpha=='dz':\n",
    "        if a > 2:\n",
    "            if alpha+language[i+2] == 'dz=':\n",
    "                num-=2\n",
    "        else:\n",
    "            pass\n",
    "    elif alpha == 'z=':\n",
    "        if language[i-1] !='d':\n",
    "            num-=1\n",
    "print(num)"
   ]
  },
  {
   "cell_type": "code",
   "execution_count": 55,
   "id": "1c3f8564",
   "metadata": {},
   "outputs": [
    {
     "name": "stdout",
     "output_type": "stream",
     "text": [
      "25 7 5\n",
      "2\n"
     ]
    }
   ],
   "source": [
    "a, b, c = map(int, input().split())\n",
    "\n",
    "for i in range(c):\n",
    "    a=(a%b)*10\n",
    "    result=a//b\n",
    "print(result)"
   ]
  },
  {
   "cell_type": "code",
   "execution_count": 10,
   "id": "70602b88",
   "metadata": {},
   "outputs": [
    {
     "name": "stdout",
     "output_type": "stream",
     "text": [
      "4545656\n",
      "6655544"
     ]
    }
   ],
   "source": [
    "num=list(input())\n",
    "num.sort(reverse=True)\n",
    "\n",
    "for i in range(len(num)):\n",
    "    print(num[i], end='')"
   ]
  },
  {
   "cell_type": "code",
   "execution_count": 25,
   "id": "cb2101ad",
   "metadata": {},
   "outputs": [
    {
     "name": "stdout",
     "output_type": "stream",
     "text": [
      "187\n",
      "66666\n"
     ]
    }
   ],
   "source": [
    "series=int(input())\n",
    "num=0\n",
    "\n",
    "while True:\n",
    "    if series == 0:\n",
    "        break\n",
    "    \n",
    "    else:\n",
    "        num+=1\n",
    "        \n",
    "    if '666' in str(num):\n",
    "        series-=1\n",
    "        \n",
    "print(num)"
   ]
  },
  {
   "cell_type": "code",
   "execution_count": 29,
   "id": "e7c14d2d",
   "metadata": {},
   "outputs": [
    {
     "name": "stdout",
     "output_type": "stream",
     "text": [
      "1\n",
      "2\n",
      "4\n",
      "8\n",
      "16\n",
      "23\n",
      "28\n",
      "38\n",
      "49\n",
      "62\n",
      "70\n",
      "77\n",
      "91\n",
      "101\n",
      "103\n",
      "107\n",
      "115\n",
      "122\n",
      "127\n",
      "137\n",
      "148\n",
      "161\n",
      "169\n",
      "185\n",
      "199\n",
      "218\n",
      "229\n",
      "242\n",
      "250\n",
      "257\n",
      "271\n",
      "281\n",
      "292\n",
      "305\n",
      "313\n",
      "320\n",
      "325\n",
      "335\n",
      "346\n",
      "359\n",
      "376\n",
      "392\n",
      "406\n",
      "416\n",
      "427\n",
      "440\n",
      "448\n",
      "464\n",
      "478\n",
      "497\n",
      "517\n",
      "530\n",
      "538\n",
      "554\n",
      "568\n",
      "587\n",
      "607\n",
      "620\n",
      "628\n",
      "644\n",
      "658\n",
      "677\n",
      "697\n",
      "719\n",
      "736\n",
      "752\n",
      "766\n",
      "785\n",
      "805\n",
      "818\n",
      "835\n",
      "851\n",
      "865\n",
      "884\n",
      "904\n",
      "917\n",
      "934\n",
      "950\n",
      "964\n",
      "983\n",
      "1003\n",
      "1007\n",
      "1015\n",
      "1022\n",
      "1027\n",
      "1037\n",
      "1048\n",
      "1061\n",
      "1069\n",
      "1085\n",
      "1099\n",
      "1118\n",
      "1129\n",
      "1142\n",
      "1150\n",
      "1157\n",
      "1171\n",
      "1181\n",
      "1192\n",
      "1205\n",
      "1213\n",
      "1220\n",
      "1225\n",
      "1235\n",
      "1246\n",
      "1259\n",
      "1276\n",
      "1292\n",
      "1306\n",
      "1316\n",
      "1327\n",
      "1340\n",
      "1348\n",
      "1364\n",
      "1378\n",
      "1397\n",
      "1417\n",
      "1430\n",
      "1438\n",
      "1454\n",
      "1468\n",
      "1487\n",
      "1507\n",
      "1520\n",
      "1528\n",
      "1544\n",
      "1558\n",
      "1577\n",
      "1597\n",
      "1619\n",
      "1636\n",
      "1652\n",
      "1666\n",
      "1685\n",
      "1705\n",
      "1718\n",
      "1735\n",
      "1751\n",
      "1765\n",
      "1784\n",
      "1804\n",
      "1817\n",
      "1834\n",
      "1850\n",
      "1864\n",
      "1883\n",
      "1903\n",
      "1916\n",
      "1933\n",
      "1949\n",
      "1972\n",
      "1991\n",
      "2011\n",
      "2015\n",
      "2023\n",
      "2030\n",
      "2035\n",
      "2045\n",
      "2056\n",
      "2069\n",
      "2086\n",
      "2102\n",
      "2107\n",
      "2117\n",
      "2128\n",
      "2141\n",
      "2149\n",
      "2165\n",
      "2179\n",
      "2198\n",
      "2218\n",
      "2231\n",
      "2239\n",
      "2255\n",
      "2269\n",
      "2288\n",
      "2308\n",
      "2321\n",
      "2329\n",
      "2345\n",
      "2359\n",
      "2378\n",
      "2398\n",
      "2420\n",
      "2428\n",
      "2444\n",
      "2458\n",
      "2477\n",
      "2497\n",
      "2519\n",
      "2536\n",
      "2552\n",
      "2566\n",
      "2585\n",
      "2605\n",
      "2618\n",
      "2635\n",
      "2651\n",
      "2665\n",
      "2684\n",
      "2704\n",
      "2717\n",
      "2734\n",
      "2750\n",
      "2764\n",
      "2783\n",
      "2803\n",
      "2816\n",
      "2833\n",
      "2849\n",
      "2872\n",
      "2891\n",
      "2911\n",
      "2924\n",
      "2941\n",
      "2957\n",
      "2980\n",
      "2999\n",
      "3028\n",
      "3041\n",
      "3049\n",
      "3065\n",
      "3079\n",
      "3098\n",
      "3118\n",
      "3131\n",
      "3139\n",
      "3155\n",
      "3169\n",
      "3188\n",
      "3208\n",
      "3221\n",
      "3229\n",
      "3245\n",
      "3259\n",
      "3278\n",
      "3298\n",
      "3320\n",
      "3328\n",
      "3344\n",
      "3358\n",
      "3377\n",
      "3397\n",
      "3419\n",
      "3436\n",
      "3452\n",
      "3466\n",
      "3485\n",
      "3505\n",
      "3518\n",
      "3535\n",
      "3551\n",
      "3565\n",
      "3584\n",
      "3604\n",
      "3617\n",
      "3634\n",
      "3650\n",
      "3664\n",
      "3683\n",
      "3703\n",
      "3716\n",
      "3733\n",
      "3749\n",
      "3772\n",
      "3791\n",
      "3811\n",
      "3824\n",
      "3841\n",
      "3857\n",
      "3880\n",
      "3899\n",
      "3928\n",
      "3950\n",
      "3967\n",
      "3992\n",
      "4015\n",
      "4025\n",
      "4036\n",
      "4049\n",
      "4066\n",
      "4082\n",
      "4096\n",
      "4115\n",
      "4126\n",
      "4139\n",
      "4156\n",
      "4172\n",
      "4186\n",
      "4205\n",
      "4216\n",
      "4229\n",
      "4246\n",
      "4262\n",
      "4276\n",
      "4295\n",
      "4315\n",
      "4328\n",
      "4345\n",
      "4361\n",
      "4375\n",
      "4394\n",
      "4414\n",
      "4427\n",
      "4444\n",
      "4460\n",
      "4474\n",
      "4493\n",
      "4513\n",
      "4526\n",
      "4543\n",
      "4559\n",
      "4582\n",
      "4601\n",
      "4612\n",
      "4625\n",
      "4642\n",
      "4658\n",
      "4681\n",
      "4700\n",
      "4711\n",
      "4724\n",
      "4741\n",
      "4757\n",
      "4780\n",
      "4799\n",
      "4828\n",
      "4850\n",
      "4867\n",
      "4892\n",
      "4915\n",
      "4934\n",
      "4954\n",
      "4976\n",
      "5002\n",
      "5009\n",
      "5023\n",
      "5033\n",
      "5044\n",
      "5057\n",
      "5074\n",
      "5090\n",
      "5104\n",
      "5114\n",
      "5125\n",
      "5138\n",
      "5155\n",
      "5171\n",
      "5185\n",
      "5204\n",
      "5215\n",
      "5228\n",
      "5245\n",
      "5261\n",
      "5275\n",
      "5294\n",
      "5314\n",
      "5327\n",
      "5344\n",
      "5360\n",
      "5374\n",
      "5393\n",
      "5413\n",
      "5426\n",
      "5443\n",
      "5459\n",
      "5482\n",
      "5501\n",
      "5512\n",
      "5525\n",
      "5542\n",
      "5558\n",
      "5581\n",
      "5600\n",
      "5611\n",
      "5624\n",
      "5641\n",
      "5657\n",
      "5680\n",
      "5699\n",
      "5728\n",
      "5750\n",
      "5767\n",
      "5792\n",
      "5815\n",
      "5834\n",
      "5854\n",
      "5876\n",
      "5902\n",
      "5918\n",
      "5941\n",
      "5960\n",
      "5980\n",
      "6002\n",
      "6010\n",
      "6017\n",
      "6031\n",
      "6041\n",
      "6052\n",
      "6065\n",
      "6082\n",
      "6098\n",
      "6121\n",
      "6131\n",
      "6142\n",
      "6155\n",
      "6172\n",
      "6188\n",
      "6211\n",
      "6221\n",
      "6232\n",
      "6245\n",
      "6262\n",
      "6278\n",
      "6301\n",
      "6311\n",
      "6322\n",
      "6335\n",
      "6352\n",
      "6368\n",
      "6391\n",
      "6410\n",
      "6421\n",
      "6434\n",
      "6451\n",
      "6467\n",
      "6490\n",
      "6509\n",
      "6529\n",
      "6551\n",
      "6568\n",
      "6593\n",
      "6616\n",
      "6635\n",
      "6655\n",
      "6677\n",
      "6703\n",
      "6719\n",
      "6742\n",
      "6761\n",
      "6781\n",
      "6803\n",
      "6820\n",
      "6836\n",
      "6859\n",
      "6887\n",
      "6916\n",
      "6938\n",
      "6964\n",
      "6989\n",
      "7021\n",
      "7031\n",
      "7042\n",
      "7055\n",
      "7072\n",
      "7088\n",
      "7111\n",
      "7121\n",
      "7132\n",
      "7145\n",
      "7162\n",
      "7178\n",
      "7201\n",
      "7211\n",
      "7222\n",
      "7235\n",
      "7252\n",
      "7268\n",
      "7291\n",
      "7310\n",
      "7321\n",
      "7334\n",
      "7351\n",
      "7367\n",
      "7390\n",
      "7409\n",
      "7429\n",
      "7451\n",
      "7468\n",
      "7493\n",
      "7516\n",
      "7535\n",
      "7555\n",
      "7577\n",
      "7603\n",
      "7619\n",
      "7642\n",
      "7661\n",
      "7681\n",
      "7703\n",
      "7720\n",
      "7736\n",
      "7759\n",
      "7787\n",
      "7816\n",
      "7838\n",
      "7864\n",
      "7889\n",
      "7921\n",
      "7940\n",
      "7960\n",
      "7982\n",
      "8008\n",
      "8024\n",
      "8038\n",
      "8057\n",
      "8077\n",
      "8099\n",
      "8125\n",
      "8141\n",
      "8155\n",
      "8174\n",
      "8194\n",
      "8216\n",
      "8233\n",
      "8249\n",
      "8272\n",
      "8291\n",
      "8311\n",
      "8324\n",
      "8341\n",
      "8357\n",
      "8380\n",
      "8399\n",
      "8428\n",
      "8450\n",
      "8467\n",
      "8492\n",
      "8515\n",
      "8534\n",
      "8554\n",
      "8576\n",
      "8602\n",
      "8618\n",
      "8641\n",
      "8660\n",
      "8680\n",
      "8702\n",
      "8719\n",
      "8744\n",
      "8767\n",
      "8795\n",
      "8824\n",
      "8846\n",
      "8872\n",
      "8897\n",
      "8929\n",
      "8957\n",
      "8986\n",
      "9017\n",
      "9034\n",
      "9050\n",
      "9064\n",
      "9083\n",
      "9103\n",
      "9116\n",
      "9133\n",
      "9149\n",
      "9172\n",
      "9191\n",
      "9211\n",
      "9224\n",
      "9241\n",
      "9257\n",
      "9280\n",
      "9299\n",
      "9328\n",
      "9350\n",
      "9367\n",
      "9392\n",
      "9415\n",
      "9434\n",
      "9454\n",
      "9476\n",
      "9502\n",
      "9518\n",
      "9541\n",
      "9560\n",
      "9580\n",
      "9602\n",
      "9619\n",
      "9644\n",
      "9667\n",
      "9695\n",
      "9724\n",
      "9746\n",
      "9772\n",
      "9797\n",
      "9829\n",
      "9857\n",
      "9886\n",
      "9917\n",
      "9943\n",
      "9968\n",
      "10000\n"
     ]
    }
   ],
   "source": [
    "selfnum=1\n",
    "\n",
    "while True:\n",
    "    if selfnum > 10000:\n",
    "        break\n",
    "    else:\n",
    "        num=0\n",
    "        print(selfnum)\n",
    "        selfnum=str(selfnum)\n",
    "        for i in range(len(selfnum)):\n",
    "            num+=int(selfnum[i])\n",
    "        selfnum=int(selfnum)\n",
    "        selfnum+=num"
   ]
  },
  {
   "cell_type": "code",
   "execution_count": 33,
   "id": "a5072cd9",
   "metadata": {},
   "outputs": [
    {
     "name": "stdout",
     "output_type": "stream",
     "text": [
      "200\n",
      "19\n"
     ]
    }
   ],
   "source": [
    "num=int(input())\n",
    "hap=0\n",
    "count=0\n",
    "\n",
    "while True:\n",
    "    if hap > num:\n",
    "        count-=1\n",
    "        break\n",
    "    else:\n",
    "        count+=1\n",
    "        hap+=count\n",
    "        \n",
    "print(count)"
   ]
  },
  {
   "cell_type": "code",
   "execution_count": 7,
   "id": "66170d47",
   "metadata": {},
   "outputs": [
    {
     "name": "stdout",
     "output_type": "stream",
     "text": [
      "10\n",
      "55\n"
     ]
    }
   ],
   "source": [
    "pibo=int(input())\n",
    "a=[0,1]\n",
    "\n",
    "for i in range(2,pibo+1):\n",
    "    a.append(a[i-1]+a[i-2])\n",
    "print(a[i])"
   ]
  },
  {
   "cell_type": "code",
   "execution_count": 37,
   "id": "37530499",
   "metadata": {},
   "outputs": [
    {
     "ename": "ValueError",
     "evalue": "invalid literal for int() with base 10: ''",
     "output_type": "error",
     "traceback": [
      "\u001b[1;31m---------------------------------------------------------------------------\u001b[0m",
      "\u001b[1;31mValueError\u001b[0m                                Traceback (most recent call last)",
      "Cell \u001b[1;32mIn[37], line 1\u001b[0m\n\u001b[1;32m----> 1\u001b[0m a\u001b[38;5;241m=\u001b[39m\u001b[38;5;28mint\u001b[39m(\u001b[38;5;28minput\u001b[39m())\n\u001b[0;32m      2\u001b[0m mapp \u001b[38;5;241m=\u001b[39m [[\u001b[38;5;241m0\u001b[39m \u001b[38;5;28;01mfor\u001b[39;00m _ \u001b[38;5;129;01min\u001b[39;00m \u001b[38;5;28mrange\u001b[39m(\u001b[38;5;241m100\u001b[39m)] \u001b[38;5;28;01mfor\u001b[39;00m _ \u001b[38;5;129;01min\u001b[39;00m \u001b[38;5;28mrange\u001b[39m(\u001b[38;5;241m100\u001b[39m)]\n\u001b[0;32m      4\u001b[0m \u001b[38;5;28;01mfor\u001b[39;00m p \u001b[38;5;129;01min\u001b[39;00m \u001b[38;5;28mrange\u001b[39m(a):\n",
      "\u001b[1;31mValueError\u001b[0m: invalid literal for int() with base 10: ''"
     ]
    }
   ],
   "source": [
    "a=int(input())\n",
    "mapp = [[0 for _ in range(100)] for _ in range(100)]\n",
    "        \n",
    "for p in range(a):\n",
    "    b,c=map(int,input().split())\n",
    "\n",
    "for i in range(b,b+10):\n",
    "    for j in range(c,c+10):\n",
    "        mapp[i][j] = 1\n",
    "\n",
    "res=0\n",
    "for i in mapp:\n",
    "    res+=sum(i)\n",
    "print(res)"
   ]
  },
  {
   "cell_type": "code",
   "execution_count": 5,
   "id": "9b398f3f",
   "metadata": {},
   "outputs": [
    {
     "name": "stdout",
     "output_type": "stream",
     "text": [
      "3\n",
      "15 7\n",
      "3 7\n",
      "5 2\n",
      "260\n"
     ]
    }
   ],
   "source": [
    "a=int(input())\n",
    "mapp = [[0 for _ in range(100)] for _ in range(100)]\n",
    "        \n",
    "for p in range(a):\n",
    "    b,c=map(int,input().split())\n",
    "    for i in range(b,b+10):\n",
    "        for j in range(c,c+10):\n",
    "            mapp[i][j] = 1\n",
    "\n",
    "res=0\n",
    "for i in mapp:\n",
    "    res+=sum(i)\n",
    "print(res)"
   ]
  },
  {
   "cell_type": "code",
   "execution_count": 18,
   "id": "12727590",
   "metadata": {},
   "outputs": [
    {
     "name": "stdout",
     "output_type": "stream",
     "text": [
      "4\n",
      "Baha enter\n",
      "Askar enter\n",
      "Baha leave\n",
      "Artem enter\n",
      "['Askar', 'Artem']\n"
     ]
    }
   ],
   "source": [
    "a=int(input())\n",
    "stay=set()\n",
    "\n",
    "for _ in range(a):\n",
    "    name,inout=input().split()\n",
    "    if inout == 'enter':\n",
    "        stay.add(name)\n",
    "    elif inout == 'leave':\n",
    "        stay.remove(name)\n",
    "\n",
    "stay=list(stay)        \n",
    "b=sorted(stay, reverse=True)\n",
    "\n",
    "for i in b:\n",
    "    print(i)"
   ]
  },
  {
   "cell_type": "code",
   "execution_count": 26,
   "id": "513132db",
   "metadata": {},
   "outputs": [
    {
     "name": "stdout",
     "output_type": "stream",
     "text": [
      "18\n",
      "4\n"
     ]
    }
   ],
   "source": [
    "#2839번 설탕배달(실버4)\n",
    "sugar=int(input())\n",
    "arr=[0,0,0,0]\n",
    "case=0\n",
    "real=0\n",
    "num=sugar\n",
    "\n",
    "if sugar % 3 == 0:\n",
    "    arr[0] = sugar//3\n",
    "if sugar % 5 ==0:\n",
    "    arr[1] = sugar//5\n",
    "if num-3 > 0:\n",
    "    for i in range(sugar//3):\n",
    "        if num % 5==0:\n",
    "            a=num//5\n",
    "            case+=a\n",
    "            real=case\n",
    "            break\n",
    "        else:\n",
    "            num-=3\n",
    "            case+=1\n",
    "    arr[2] = real\n",
    "if real==0 and arr[0]==0 and arr[1] == 0:\n",
    "    arr[3] = -1\n",
    "\n",
    "while 0 in arr:\n",
    "    arr.remove(0)\n",
    "\n",
    "print(min(arr))\n"
   ]
  },
  {
   "cell_type": "code",
   "execution_count": 41,
   "id": "e92c666e",
   "metadata": {},
   "outputs": [
    {
     "name": "stdout",
     "output_type": "stream",
     "text": [
      "5\n",
      "3 4\n",
      "1 1\n",
      "1 -1\n",
      "2 2\n",
      "3 3\n",
      "1 -1\n",
      "1 1\n",
      "2 2\n",
      "3 3\n",
      "3 4\n"
     ]
    }
   ],
   "source": [
    "#11650 좌표 정렬하기(실버5)\n",
    "num=int(input())\n",
    "a=[]\n",
    "\n",
    "for i in range(num):\n",
    "    x, y = map(int, input().split())\n",
    "    rev = [x,y]\n",
    "    a.append(rev)\n",
    "\n",
    "b=sorted(a)\n",
    "for i in range(len(b)):\n",
    "    print(b[i][0], b[i][1])\n"
   ]
  },
  {
   "cell_type": "code",
   "execution_count": 40,
   "id": "7b545828",
   "metadata": {},
   "outputs": [
    {
     "name": "stdout",
     "output_type": "stream",
     "text": [
      "5\n",
      "0 4\n",
      "1 -1\n",
      "1 2\n",
      "2 2\n",
      "3 3\n",
      "1 -1\n",
      "1 2\n",
      "2 2\n",
      "3 3\n",
      "0 4\n"
     ]
    }
   ],
   "source": [
    "#11651 좌표 정렬하기2(실버5)\n",
    "num=int(input())\n",
    "a=[]\n",
    "\n",
    "for i in range(num):\n",
    "    x, y = map(int, input().split())\n",
    "    rev = [y,x]\n",
    "    a.append(rev)\n",
    "\n",
    "b=sorted(a)\n",
    "for i in range(len(b)):\n",
    "    print(b[i][1], b[i][0])\n"
   ]
  },
  {
   "cell_type": "code",
   "execution_count": 2,
   "id": "70b87da2",
   "metadata": {},
   "outputs": [
    {
     "name": "stdout",
     "output_type": "stream",
     "text": [
      "23\n",
      "4\n"
     ]
    }
   ],
   "source": [
    "#1094 막대기(실버5)\n",
    "\n",
    "ll=[64,32,16,8,4,2,1]\n",
    "X=int(input())\n",
    "num=0\n",
    "\n",
    "for i in range(7):\n",
    "    if X >= ll[i]:\n",
    "        X-=ll[i]\n",
    "        num+=1\n",
    "    else:\n",
    "        pass\n",
    "    \n",
    "print(num)"
   ]
  },
  {
   "cell_type": "code",
   "execution_count": 34,
   "id": "57460f3e",
   "metadata": {},
   "outputs": [
    {
     "name": "stdout",
     "output_type": "stream",
     "text": [
      "7\n",
      "1\n",
      "3\n",
      "5\n",
      "7\n",
      "4\n",
      "2\n",
      "6\n"
     ]
    }
   ],
   "source": [
    "#2161 카드1(실버5)\n",
    "\n",
    "card = []\n",
    "trash = []\n",
    "N = int(input())\n",
    "\n",
    "for i in range(1, N + 1):\n",
    "    card.append(i)\n",
    "\n",
    "while len(card) > 1:\n",
    "    trash.append(card.pop(0))\n",
    "    card.append(card.pop(0))\n",
    "\n",
    "trash.append(card[0])\n",
    "\n",
    "for i in trash:\n",
    "    print(i)\n"
   ]
  },
  {
   "cell_type": "code",
   "execution_count": 39,
   "id": "3267b043",
   "metadata": {
    "scrolled": true
   },
   "outputs": [
    {
     "name": "stdout",
     "output_type": "stream",
     "text": [
      "20\n",
      "30\n",
      "50\n",
      "48\n",
      "33\n",
      "66\n",
      "0\n",
      "64\n",
      "261\n",
      "2\n",
      "3\n",
      "4\n",
      "5\n",
      "7\n"
     ]
    }
   ],
   "source": [
    "#2822 점수 계산(실버5)\n",
    "\n",
    "score=[]\n",
    "hap=0\n",
    "\n",
    "\n",
    "for i in range(8):\n",
    "    score.append(int(input()))\n",
    "    \n",
    "score_v2=sorted(score,reverse=True)\n",
    "del(score_v2[5:])\n",
    "\n",
    "for i in score_v2:\n",
    "    hap+=i\n",
    "\n",
    "print(hap)\n",
    "\n",
    "for i in score:\n",
    "    if i in score_v2:\n",
    "        print(score.index(i)+1)"
   ]
  },
  {
   "cell_type": "code",
   "execution_count": 16,
   "id": "564ac3de",
   "metadata": {},
   "outputs": [
    {
     "name": "stdout",
     "output_type": "stream",
     "text": [
      "5\n",
      "3 1 4 3 2\n",
      "32\n"
     ]
    }
   ],
   "source": [
    "#11399 ATM(실버4)\n",
    "every=[]\n",
    "people=int(input())\n",
    "time=list(map(int,input().split()))\n",
    "time.sort()\n",
    "for i in range(1,people+1):\n",
    "    hap=0\n",
    "    for j in range(i):\n",
    "        hap+=time[j]\n",
    "    every.append(hap)\n",
    "    \n",
    "print(sum(every))"
   ]
  },
  {
   "cell_type": "code",
   "execution_count": 23,
   "id": "454bebba",
   "metadata": {},
   "outputs": [
    {
     "name": "stdout",
     "output_type": "stream",
     "text": [
      "15 28 19\n",
      "7980\n"
     ]
    }
   ],
   "source": [
    "#1476 날짜 계산(실버5)\n",
    "e,s,m = map(int,input().split())\n",
    "year=1\n",
    "\n",
    "while True:\n",
    "    if ((year-e)%15==0) and ((year-s)%28==0) and ((year-m)%19==0):\n",
    "        print(year)\n",
    "        break\n",
    "    else:\n",
    "        year+=1"
   ]
  },
  {
   "cell_type": "code",
   "execution_count": 24,
   "id": "87ecd702",
   "metadata": {},
   "outputs": [
    {
     "name": "stdout",
     "output_type": "stream",
     "text": [
      "5\n",
      "SK\n"
     ]
    }
   ],
   "source": [
    "#9655 돌 게임(실버5)\n",
    "dol=int(input())\n",
    "\n",
    "if dol % 2==0:\n",
    "    print('CY')\n",
    "else:\n",
    "    print('SK')"
   ]
  },
  {
   "cell_type": "code",
   "execution_count": 17,
   "id": "95d575b0",
   "metadata": {
    "scrolled": true
   },
   "outputs": [
    {
     "name": "stdout",
     "output_type": "stream",
     "text": [
      "1 2 4 4\n",
      "2 3 5 7\n",
      "3 1 6 5\n",
      "7 3 8 6\n",
      "26\n"
     ]
    }
   ],
   "source": [
    "#2669 직사각형 네개의 합집합의 면적 구하기(실버5)\n",
    "\n",
    "xy=[[0] * 100 for _ in range(100)]# 100x100 크기의 2차원 배열 생성 및 0으로 초기화\n",
    "n=0  \n",
    "        \n",
    "for i in range(4):\n",
    "    x = list(map(int,input().split()))\n",
    "    for i in range(x[0], x[2]):\n",
    "        for j in range(x[1], x[3]):\n",
    "            xy[i][j]=1\n",
    "    \n",
    "for i in range(100):\n",
    "    n+=xy[i].count(1)\n",
    "\n",
    "print(n)"
   ]
  },
  {
   "cell_type": "code",
   "execution_count": 19,
   "id": "ada4fe1c",
   "metadata": {
    "scrolled": true
   },
   "outputs": [
    {
     "name": "stdout",
     "output_type": "stream",
     "text": [
      "6\n",
      "15\n"
     ]
    }
   ],
   "source": [
    "#3049 다각형의 대각선(실버5)\n",
    "\n",
    "n=int(input())\n",
    "print(int(n*(n-1)*(n-2)*(n-3)/24))"
   ]
  },
  {
   "cell_type": "code",
   "execution_count": 26,
   "id": "7930c9a8",
   "metadata": {},
   "outputs": [
    {
     "name": "stdout",
     "output_type": "stream",
     "text": [
      "4\n",
      "12 3 8 4\n",
      "4/1\n",
      "3/2\n",
      "3/1\n"
     ]
    }
   ],
   "source": [
    "#3036 링(실버4)\n",
    "n=int(input())\n",
    "\n",
    "ring = list(map(int,input().split()))\n",
    "    \n",
    "for i in range(1,n):\n",
    "    a = ring[0] // ring[i]\n",
    "    b = ring[0] % ring[i]\n",
    "    c = 0\n",
    "    if b == 0:\n",
    "        print(\"%d/1\"%a)\n",
    "    else:\n",
    "        for j in range(1,ring[i]+1):\n",
    "            if ring[0] % j==0 and ring[i] % j == 0:\n",
    "                c=j\n",
    "        print(\"%d/%d\"%(ring[0]//c, ring[i]//c))"
   ]
  },
  {
   "cell_type": "code",
   "execution_count": 1,
   "id": "21831729",
   "metadata": {
    "scrolled": false
   },
   "outputs": [
    {
     "name": "stdout",
     "output_type": "stream",
     "text": [
      "5\n",
      "1\n",
      "2\n",
      "3\n",
      "5\n",
      "4\n",
      "1\n",
      "2\n",
      "3\n",
      "4\n",
      "5\n"
     ]
    }
   ],
   "source": [
    "#2751 수 정렬하기2(실버5)\n",
    "import sys\n",
    "input=sys.stdin.readline\n",
    "\n",
    "n=int(input())\n",
    "li=[]\n",
    "\n",
    "for i in range(n):\n",
    "    li.append(int(input()))\n",
    "\n",
    "for i in sorted(li):\n",
    "    print(i)"
   ]
  },
  {
   "cell_type": "code",
   "execution_count": 3,
   "id": "e6173492",
   "metadata": {},
   "outputs": [
    {
     "name": "stdout",
     "output_type": "stream",
     "text": [
      "10\n",
      "5\n",
      "2\n",
      "3\n",
      "1\n",
      "4\n",
      "2\n",
      "3\n",
      "5\n",
      "1\n",
      "7\n",
      "1\n",
      "1\n",
      "2\n",
      "2\n",
      "3\n",
      "3\n",
      "4\n",
      "5\n",
      "5\n",
      "7\n"
     ]
    }
   ],
   "source": [
    "#10989 수 정렬하기3(브론즈1)-실패\n",
    "import sys\n",
    "input=sys.stdin.readline\n",
    "\n",
    "n=int(input())\n",
    "num=[]\n",
    "\n",
    "for _ in range(n):\n",
    "    num.append(int(input()))\n",
    "\n",
    "for i in sorted(num):\n",
    "    print(i)"
   ]
  },
  {
   "cell_type": "code",
   "execution_count": 12,
   "id": "cdc218ce",
   "metadata": {},
   "outputs": [
    {
     "name": "stdout",
     "output_type": "stream",
     "text": [
      "3\n",
      "adfad\n"
     ]
    }
   ],
   "source": [
    "#1 (실버3)\n",
    "import sys\n",
    "input=sys.stdin.readline\n",
    "\n",
    "while True:\n",
    "    try:\n",
    "        num=input()\n",
    "        num_len_su=0\n",
    "        n=1\n",
    "        while True:\n",
    "            num_len=len(num)\n",
    "            for i in range(1,num_len+1): #num의 숫자 개수를 세서 모두 1이면 멈추기\n",
    "                if num[i]=='1':\n",
    "                    num_len_su+=1\n",
    "                    if num_len_su == num_len:\n",
    "                        break\n",
    "                else:\n",
    "                    pass\n",
    "            n=n+1\n",
    "            num=num*n\n",
    "        print(len(num))\n",
    "    except:\n",
    "        break\n",
    "    "
   ]
  },
  {
   "cell_type": "code",
   "execution_count": 2,
   "id": "9d4d7535",
   "metadata": {},
   "outputs": [
    {
     "name": "stdout",
     "output_type": "stream",
     "text": [
      "10\n",
      "1\n",
      "3\n",
      "5\n",
      "4\n",
      "0\n",
      "0\n",
      "7\n",
      "0\n",
      "0\n",
      "6\n",
      "7\n"
     ]
    }
   ],
   "source": [
    "#10773 - 제로(실버4)\n",
    "a=int(input())\n",
    "cog=[]\n",
    "\n",
    "for i in range(a):\n",
    "    num_input = int(input())\n",
    "    if num_input != 0:\n",
    "        cog.append(num_input)\n",
    "    else:\n",
    "        if len(cog)==0:\n",
    "            pass\n",
    "        else:\n",
    "            cog.pop()\n",
    "print(sum(cog))\n",
    "        \n"
   ]
  },
  {
   "cell_type": "code",
   "execution_count": 21,
   "id": "8619dc3a",
   "metadata": {},
   "outputs": [
    {
     "name": "stdout",
     "output_type": "stream",
     "text": [
      "3 4\n",
      "ohhenrie\n",
      "charlie\n",
      "baesangwook\n",
      "obama\n",
      "baesangwook\n",
      "ohhenrie\n",
      "clinton\n",
      "2\n",
      "baesangwook\n",
      "ohhenrie\n"
     ]
    }
   ],
   "source": [
    "#1764 - 듣보잡 (실버4)\n",
    "eme,qh = map(int,input().split())\n",
    "name1=[]\n",
    "name2=[]\n",
    "\n",
    "\n",
    "for i in range(eme):\n",
    "    name1.append(input())\n",
    "for j in range(qh):\n",
    "    name2.append(input())\n",
    "\n",
    "name1=set(name1)\n",
    "name2=set(name2)\n",
    "\n",
    "print(len(name1&name2))\n",
    "dic_name=sorted(name1&name2)\n",
    "\n",
    "for i in dic_name:\n",
    "    print(i)"
   ]
  },
  {
   "cell_type": "code",
   "execution_count": 11,
   "id": "36250baa",
   "metadata": {},
   "outputs": [
    {
     "name": "stdout",
     "output_type": "stream",
     "text": [
      "100 99 1000000000\n",
      "999999901\n"
     ]
    }
   ],
   "source": [
    "#2869 - 달팽이는 올라가고 싶다(브론즈1, 시간제한: 0.25초, 메모리:128MB)\n",
    "up,down,meter=map(int,input().split())\n",
    "count=0\n",
    "\n",
    "if (meter-up) % (up-down) == 0:\n",
    "    count = (meter-up) // (up-down)\n",
    "    print(count+1)\n",
    "else:\n",
    "    count = (meter-up)//(up-down)\n",
    "    print(count+2)"
   ]
  },
  {
   "cell_type": "code",
   "execution_count": 10,
   "id": "f31f2a33",
   "metadata": {},
   "outputs": [
    {
     "name": "stdout",
     "output_type": "stream",
     "text": [
      "5 5\n",
      "150 150 165 153 162\n",
      "[150, 150, 153, 162, 165]\n",
      "4\n"
     ]
    }
   ],
   "source": [
    "#2024 전국 대학생 프로그래밍 대회(3번 문제, 제한시간: 5초)\n",
    "\n",
    "students, k = map(int,input().split())\n",
    "n=list(map(int,input().split()))\n",
    "n=sorted(n)\n",
    "\n",
    "i=0\n",
    "su=0\n",
    "\n",
    "print(n)\n",
    "for j in range(len(n)):\n",
    "    while n[j] - n[i] > k:\n",
    "        i+=1\n",
    "    su += j-i\n",
    "\n",
    "print(su)"
   ]
  },
  {
   "cell_type": "code",
   "execution_count": 24,
   "id": "cd8900bb",
   "metadata": {},
   "outputs": [
    {
     "name": "stdout",
     "output_type": "stream",
     "text": [
      "3\n",
      "1 45000\n",
      "45000\n",
      "6 10\n",
      "30\n",
      "13 17\n",
      "221\n"
     ]
    }
   ],
   "source": [
    "#1934 - 최소공배수(브론즈 1, 시간제한: 1초, 메모리: 128MB)\n",
    "\n",
    "T = int(input())\n",
    "for j in range(T):    \n",
    "    A,B = map(int,input().split())\n",
    "\n",
    "#     for i in range(max(A,B), A*B+1):\n",
    "#         if i % A == 0 and i % B == 0:\n",
    "#             print(i)\n",
    "#             break\n",
    "\n",
    "\n",
    "\n"
   ]
  },
  {
   "cell_type": "code",
   "execution_count": 46,
   "id": "8d50cd94",
   "metadata": {},
   "outputs": [
    {
     "name": "stdout",
     "output_type": "stream",
     "text": [
      "7\n",
      "6\n",
      "3\n",
      "3\n"
     ]
    }
   ],
   "source": [
    "#4375 - 1(실버3, 시간제한: 1초, 메모리: 128MB)\n",
    "\n",
    "while True:\n",
    "    try:\n",
    "        num = int(input())\n",
    "    except:\n",
    "        break\n",
    "    \n",
    "    su='1'\n",
    "    \n",
    "    while True:\n",
    "        if int(su) % num == 0:\n",
    "            print(len(su))\n",
    "            break\n",
    "        else:\n",
    "            su +='1'"
   ]
  },
  {
   "cell_type": "code",
   "execution_count": 51,
   "id": "7581e6c0",
   "metadata": {},
   "outputs": [
    {
     "name": "stdout",
     "output_type": "stream",
     "text": [
      "3\n",
      "0\n"
     ]
    }
   ],
   "source": [
    "#1676 - 팩토리얼 0의 개수(실버 5, 시간제한: 2초, 메모리 제한: 128MB)\n",
    "\n",
    "N = int(input())\n",
    "num=1\n",
    "\n",
    "for i in range(N, 0, -1):\n",
    "    num *= i\n",
    "\n",
    "num = str(num)\n",
    "\n",
    "count = 0\n",
    "for j in reversed(num):\n",
    "    if j == '0':\n",
    "        count+=1\n",
    "    else:\n",
    "        print(count)\n",
    "        break"
   ]
  }
 ],
 "metadata": {
  "kernelspec": {
   "display_name": "Python 3 (ipykernel)",
   "language": "python",
   "name": "python3"
  },
  "language_info": {
   "codemirror_mode": {
    "name": "ipython",
    "version": 3
   },
   "file_extension": ".py",
   "mimetype": "text/x-python",
   "name": "python",
   "nbconvert_exporter": "python",
   "pygments_lexer": "ipython3",
   "version": "3.11.4"
  }
 },
 "nbformat": 4,
 "nbformat_minor": 5
}
